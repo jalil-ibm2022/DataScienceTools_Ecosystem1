{
 "cells": [
  {
   "cell_type": "markdown",
   "id": "60ed5f1a-b827-42ae-a3c1-2839c9503db4",
   "metadata": {
    "tags": []
   },
   "source": [
    "# Data Science Tools and Ecosystem\n"
   ]
  },
  {
   "cell_type": "markdown",
   "id": "232bc76a-bf5a-4eb7-b60c-9c4d2913aba2",
   "metadata": {},
   "source": [
    "In this notebook, Data Science Tools and Ecosystem are summarized.In this notebook, Data Science Tools and Ecosystem are summarized.\n",
    "\n"
   ]
  },
  {
   "cell_type": "markdown",
   "id": "0d9a76b8-c2b4-4e75-8165-be4b76bdac2a",
   "metadata": {},
   "source": [
    "Some of the popular languages that Data Scientists use are:Some of the popular languages that Data Scientists use are:<br>\n",
    "1. Python\n",
    "2. R\n",
    "3. SQL"
   ]
  },
  {
   "cell_type": "markdown",
   "id": "37536f83-9105-4349-838e-abb76de59a86",
   "metadata": {},
   "source": [
    "Some of the commonly used libraries used by Data Scientists include:Some of the commonly used libraries used by Data Scientists include: <br>\n",
    "\n",
    "1. PANDAS\n",
    "2. Seaborn\n",
    "3. Matplotlib"
   ]
  },
  {
   "cell_type": "markdown",
   "id": "15b91053-42af-4d9e-ae8b-f69561b825e8",
   "metadata": {},
   "source": [
    "|Data Science Tools       |\n",
    "| ------------- |\n",
    "| JupyterLab      |\n",
    "| R Studio      |\n",
    "| KNIME      |"
   ]
  },
  {
   "cell_type": "markdown",
   "id": "b6265c0e-5582-4b52-a6df-532b29ca539e",
   "metadata": {},
   "source": [
    "### Below are a few examples of evaluating arithmetic expressions in PythonBelow are a few examples of evaluating arithmetic expressions in Python :"
   ]
  },
  {
   "cell_type": "code",
   "execution_count": 21,
   "id": "66d32b11-00b8-445b-8299-c07f21f49fc5",
   "metadata": {},
   "outputs": [
    {
     "data": {
      "text/plain": [
       "17"
      ]
     },
     "execution_count": 21,
     "metadata": {},
     "output_type": "execute_result"
    }
   ],
   "source": [
    "# This a simple arithmetic expression to mutiply then add integers\n",
    "(3*4)+5"
   ]
  },
  {
   "cell_type": "code",
   "execution_count": 22,
   "id": "65352c4b-eb44-4145-a42d-0e7ed901ad33",
   "metadata": {},
   "outputs": [
    {
     "name": "stdout",
     "output_type": "stream",
     "text": [
      "3.3333333333333335\n"
     ]
    }
   ],
   "source": [
    "# This will convert 200 minutes to hours by diving by 60\n",
    "hours = 200 / 60\n",
    "print(hours)"
   ]
  },
  {
   "cell_type": "markdown",
   "id": "02a48715-7488-4688-8870-ef464f265e61",
   "metadata": {},
   "source": [
    "## Objectives:\n",
    "\n",
    "List popular languages for Data Science :\n",
    "* Python\n",
    "* R\n",
    "* SQL\n",
    "* Java\n",
    "* Scala"
   ]
  },
  {
   "cell_type": "markdown",
   "id": "8ccbd405-9e5d-4b9e-80c2-c3f38c177483",
   "metadata": {},
   "source": [
    "# Author\n",
    "Jalil Bouihad\n"
   ]
  }
 ],
 "metadata": {
  "kernelspec": {
   "display_name": "Python",
   "language": "python",
   "name": "conda-env-python-py"
  },
  "language_info": {
   "codemirror_mode": {
    "name": "ipython",
    "version": 3
   },
   "file_extension": ".py",
   "mimetype": "text/x-python",
   "name": "python",
   "nbconvert_exporter": "python",
   "pygments_lexer": "ipython3",
   "version": "3.7.12"
  },
  "toc-autonumbering": false,
  "toc-showcode": true,
  "toc-showmarkdowntxt": true,
  "toc-showtags": false
 },
 "nbformat": 4,
 "nbformat_minor": 5
}
